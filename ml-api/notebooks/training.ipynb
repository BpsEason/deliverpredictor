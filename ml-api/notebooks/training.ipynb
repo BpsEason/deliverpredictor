{
 "cells": [
  {
   "cell_type": "markdown",
   "metadata": {},
   "source": [
    "# DeliverPredictor - ML 模型訓練範本"
   ]
  },
  {
   "cell_type": "code",
   "execution_count": null,
   "metadata": {},
   "outputs": [],
   "source": [
    "import pandas as pd\n",
    "from sklearn.model_selection import train_test_split\n",
    "from sklearn.linear_model import LogisticRegression\n",
    "from sklearn.metrics import classification_report\n",
    "import joblib\n",
    "\n",
    "# 1. 讀取資料\n",
    "print(\"讀取資料...\")\n",
    "data = {\n",
    "    'past_late_count': [1, 5, 8, 2, 0, 9, 3, 4, 6, 7],\n",
    "    'leave_frequency': [0, 1, 3, 0, 0, 2, 1, 1, 2, 3],\n",
    "    'avg_delivery_time': [15.2, 25.1, 32.5, 18.9, 12.3, 35.8, 20.4, 22.1, 28.7, 30.0],\n",
    "    'rating': [4.5, 3.8, 2.5, 4.9, 4.8, 2.1, 4.1, 3.9, 3.5, 2.9],\n",
    "    'risk': [0, 1, 1, 0, 0, 1, 0, 0, 1, 1]\n",
    "}\n",
    "df = pd.DataFrame(data)\n",
    "print(\"資料前五筆：\")\n",
    "display(df.head())"
   ]
  },
  {
   "cell_type": "code",
   "execution_count": null,
   "metadata": {},
   "outputs": [],
   "source": [
    "# 2. 資料前處理與特徵工程\n",
    "X = df[['past_late_count', 'leave_frequency', 'avg_delivery_time', 'rating']]\n",
    "y = df['risk']\n",
    "\n",
    "print(\"特徵(X) 與 標籤(y) 分割完成。\")"
   ]
  },
  {
   "cell_type": "code",
   "execution_count": null,
   "metadata": {},
   "outputs": [],
   "source": [
    "# 3. 訓練模型\n",
    "print(\"開始訓練模型...\")\n",
    "model = LogisticRegression()\n",
    "model.fit(X, y)\n",
    "print(\"模型訓練完成。\")"
   ]
  },
  {
   "cell_type": "code",
   "execution_count": null,
   "metadata": {},
   "outputs": [],
   "source": [
    "# 4. 評估模型\n",
    "y_pred = model.predict(X)\n",
    "print(\"模型評估報告：\")\n",
    "print(classification_report(y, y_pred))"
   ]
  },
  {
   "cell_type": "code",
   "execution_count": null,
   "metadata": {},
   "outputs": [],
   "source": [
    "# 5. 儲存模型\n",
    "model_file = 'model.pkl'\n",
    "joblib.dump(model, model_file)\n",
    "print(f\"模型已儲存為 {model_file}\")"
   ]
  }
 ],
 "metadata": {
  "kernelspec": {
   "display_name": "Python 3",
   "language": "python",
   "name": "python3"
  },
  "language_info": {
   "codemirror_mode": {
    "name": "ipython",
    "version": 3
   },
   "file_extension": ".py",
   "mimetype": "text/x-python",
   "name": "python",
   "nbconvert_exporter": "python",
   "pygments_lexer": "ipython3",
   "version": "3.9.7"
  }
 },
 "nbformat": 4,
 "nbformat_minor": 4
}
